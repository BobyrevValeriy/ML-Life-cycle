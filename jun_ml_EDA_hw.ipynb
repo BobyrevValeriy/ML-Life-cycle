{
 "cells": [
  {
   "cell_type": "markdown",
   "metadata": {
    "id": "ORsCe1f4zI_Q"
   },
   "source": [
    "## Разведочный анализ\n",
    "\n",
    "Подключитесь к базе данных PostgreSQL и выгрузите таблицу `exploratory`, сохранив ее в датафрейм. <br> <br>\n",
    "Параметры для подключения следующие: хост – `******.******.ru`, порт – `5432`, имя базы данных – `db_ds_students`, пользователь – `readonly`, пароль – `6hajV34RTQfmxhS`."
   ]
  },
  {
   "cell_type": "code",
   "execution_count": 1,
   "metadata": {
    "id": "QVR_Xho1zI_d"
   },
   "outputs": [
    {
     "data": {
      "text/html": [
       "        <script type=\"text/javascript\">\n",
       "        window.PlotlyConfig = {MathJaxConfig: 'local'};\n",
       "        if (window.MathJax) {MathJax.Hub.Config({SVG: {font: \"STIX-Web\"}});}\n",
       "        if (typeof require !== 'undefined') {\n",
       "        require.undef(\"plotly\");\n",
       "        requirejs.config({\n",
       "            paths: {\n",
       "                'plotly': ['https://cdn.plot.ly/plotly-2.11.1.min']\n",
       "            }\n",
       "        });\n",
       "        require(['plotly'], function(Plotly) {\n",
       "            window._Plotly = Plotly;\n",
       "        });\n",
       "        }\n",
       "        </script>\n",
       "        "
      ]
     },
     "metadata": {},
     "output_type": "display_data"
    },
    {
     "data": {
      "text/html": [
       "        <script type=\"text/javascript\">\n",
       "        window.PlotlyConfig = {MathJaxConfig: 'local'};\n",
       "        if (window.MathJax) {MathJax.Hub.Config({SVG: {font: \"STIX-Web\"}});}\n",
       "        if (typeof require !== 'undefined') {\n",
       "        require.undef(\"plotly\");\n",
       "        requirejs.config({\n",
       "            paths: {\n",
       "                'plotly': ['https://cdn.plot.ly/plotly-2.11.1.min']\n",
       "            }\n",
       "        });\n",
       "        require(['plotly'], function(Plotly) {\n",
       "            window._Plotly = Plotly;\n",
       "        });\n",
       "        }\n",
       "        </script>\n",
       "        "
      ]
     },
     "metadata": {},
     "output_type": "display_data"
    }
   ],
   "source": [
    "### YOUR CODE HERE ###\n",
    "from sqlalchemy import create_engine\n",
    "import pandas as pd\n",
    "from pandas_profiling import ProfileReport\n",
    "\n",
    "import matplotlib.pyplot as plt\n",
    "import seaborn as sns\n",
    "import cufflinks as cf\n",
    "cf.set_config_file(offline=True)\n",
    "\n",
    "sns.set_theme(style=\"ticks\")\n",
    "\n",
    "%matplotlib inline"
   ]
  },
  {
   "cell_type": "code",
   "execution_count": 2,
   "metadata": {},
   "outputs": [
    {
     "data": {
      "text/html": [
       "<div>\n",
       "<style scoped>\n",
       "    .dataframe tbody tr th:only-of-type {\n",
       "        vertical-align: middle;\n",
       "    }\n",
       "\n",
       "    .dataframe tbody tr th {\n",
       "        vertical-align: top;\n",
       "    }\n",
       "\n",
       "    .dataframe thead th {\n",
       "        text-align: right;\n",
       "    }\n",
       "</style>\n",
       "<table border=\"1\" class=\"dataframe\">\n",
       "  <thead>\n",
       "    <tr style=\"text-align: right;\">\n",
       "      <th></th>\n",
       "      <th>feature_1</th>\n",
       "      <th>feature_2</th>\n",
       "      <th>feature_3</th>\n",
       "      <th>feature_4</th>\n",
       "      <th>feature_5</th>\n",
       "    </tr>\n",
       "  </thead>\n",
       "  <tbody>\n",
       "    <tr>\n",
       "      <th>0</th>\n",
       "      <td>2.439930</td>\n",
       "      <td>-2.180961</td>\n",
       "      <td>33.468496</td>\n",
       "      <td>-1.927388</td>\n",
       "      <td>-5.321392</td>\n",
       "    </tr>\n",
       "    <tr>\n",
       "      <th>1</th>\n",
       "      <td>1.770580</td>\n",
       "      <td>-1.174880</td>\n",
       "      <td>0.989593</td>\n",
       "      <td>-1.139681</td>\n",
       "      <td>-2.080220</td>\n",
       "    </tr>\n",
       "    <tr>\n",
       "      <th>2</th>\n",
       "      <td>0.742817</td>\n",
       "      <td>-0.263483</td>\n",
       "      <td>0.168149</td>\n",
       "      <td>-0.332438</td>\n",
       "      <td>-0.195720</td>\n",
       "    </tr>\n",
       "    <tr>\n",
       "      <th>3</th>\n",
       "      <td>-1.510892</td>\n",
       "      <td>2.712571</td>\n",
       "      <td>-2.685643</td>\n",
       "      <td>2.058495</td>\n",
       "      <td>-4.098402</td>\n",
       "    </tr>\n",
       "    <tr>\n",
       "      <th>4</th>\n",
       "      <td>-0.483511</td>\n",
       "      <td>0.096511</td>\n",
       "      <td>-0.028703</td>\n",
       "      <td>0.168763</td>\n",
       "      <td>-0.046664</td>\n",
       "    </tr>\n",
       "  </tbody>\n",
       "</table>\n",
       "</div>"
      ],
      "text/plain": [
       "   feature_1  feature_2  feature_3  feature_4  feature_5\n",
       "0   2.439930  -2.180961  33.468496  -1.927388  -5.321392\n",
       "1   1.770580  -1.174880   0.989593  -1.139681  -2.080220\n",
       "2   0.742817  -0.263483   0.168149  -0.332438  -0.195720\n",
       "3  -1.510892   2.712571  -2.685643   2.058495  -4.098402\n",
       "4  -0.483511   0.096511  -0.028703   0.168763  -0.046664"
      ]
     },
     "execution_count": 2,
     "metadata": {},
     "output_type": "execute_result"
    }
   ],
   "source": [
    "# загружаем данные\n",
    "engine = create_engine('postgresql://readonly:6hajV34RTQfmxhS@******.******.ru:5432/db_ds_students')\n",
    "df = pd.read_sql_query('select * from \"exploratory\"',con=engine).astype('float')\n",
    "df.head()"
   ]
  },
  {
   "cell_type": "markdown",
   "metadata": {},
   "source": [
    "Проведем первичную разветку данных. Посмотрим, есть ли дублирующие или пропущенные значения. Для этого нам поможет библиотека `pandas_profiling`. "
   ]
  },
  {
   "cell_type": "code",
   "execution_count": 3,
   "metadata": {},
   "outputs": [
    {
     "data": {
      "application/vnd.jupyter.widget-view+json": {
       "model_id": "8a0c4ad239bf479cb942061691b1284e",
       "version_major": 2,
       "version_minor": 0
      },
      "text/plain": [
       "Summarize dataset:   0%|          | 0/5 [00:00<?, ?it/s]"
      ]
     },
     "metadata": {},
     "output_type": "display_data"
    },
    {
     "data": {
      "application/vnd.jupyter.widget-view+json": {
       "model_id": "73f31a2cf85c4ed2ae3352ce22e356e2",
       "version_major": 2,
       "version_minor": 0
      },
      "text/plain": [
       "Generate report structure:   0%|          | 0/1 [00:00<?, ?it/s]"
      ]
     },
     "metadata": {},
     "output_type": "display_data"
    },
    {
     "data": {
      "application/vnd.jupyter.widget-view+json": {
       "model_id": "",
       "version_major": 2,
       "version_minor": 0
      },
      "text/plain": [
       "Render widgets:   0%|          | 0/1 [00:00<?, ?it/s]"
      ]
     },
     "metadata": {},
     "output_type": "display_data"
    },
    {
     "data": {
      "application/vnd.jupyter.widget-view+json": {
       "model_id": "9937e912a1154fe7b76f1c93f6a73528",
       "version_major": 2,
       "version_minor": 0
      },
      "text/plain": [
       "VBox(children=(Tab(children=(Tab(children=(GridBox(children=(VBox(children=(GridspecLayout(children=(HTML(valu…"
      ]
     },
     "metadata": {},
     "output_type": "display_data"
    }
   ],
   "source": [
    "primary_analysis = ProfileReport(df, title=\"Первичный разведочный анализ данных\")\n",
    "primary_analysis.to_widgets()"
   ]
  },
  {
   "cell_type": "markdown",
   "metadata": {},
   "source": [
    "Из полученной первичной разведки анализа данных, мы видим, что нет дублирующих и пропущенных значений. Все признаки состоят из уникальных значений.  Высоко коррелируют между собой только признаки 2 и 4. Также видно, что признак 3 имеет одновременно высокое стандартное отклонение и низкий коэффициент вариации. Посмотрев на гисстограмму 3-го признака, мы можем увидеть подтверждения сильного разреженного распределения значений."
   ]
  },
  {
   "cell_type": "markdown",
   "metadata": {
    "id": "e3J8MfhCJFZo"
   },
   "source": []
  },
  {
   "cell_type": "markdown",
   "metadata": {
    "id": "qhtweauCzI_u"
   },
   "source": [
    "Постройте гистограммы распределения для каждой переменной. Поэксперементируйте с количеством \"разбивок\" (bins). Опишите распределение каждой переменной. В каких областях (пример: от нуля до 2 расположено примерно треть всех значений) сосредоточено больше значений, в каких меньше. "
   ]
  },
  {
   "cell_type": "code",
   "execution_count": 4,
   "metadata": {
    "id": "7a3WnvanzI_y"
   },
   "outputs": [
    {
     "data": {
      "image/png": "[encoded data removed]",
      "text/plain": [
       "<Figure size 1080x576 with 30 Axes>"
      ]
     },
     "metadata": {
      "needs_background": "light"
     },
     "output_type": "display_data"
    }
   ],
   "source": [
    "### YOUR CODE HERE ###\n",
    "pg = sns.PairGrid(df)\n",
    "pg.map_upper(sns.histplot)\n",
    "pg.map_lower(sns.kdeplot, fill=True)\n",
    "pg.map_diag(sns.histplot, kde=True)\n",
    "plt.gcf().set_size_inches(15, 8)"
   ]
  },
  {
   "cell_type": "markdown",
   "metadata": {},
   "source": [
    "Посмотрим на результат Pair Grid матрицу с гистограммами. Так, например, 1,2,4 признаки выглядят нормально распределёнными? хотя у 1 признака наблюдаются два локальных пика с провалом между ними, а 5 признак обладает ярко выраженной правой ассиметрией. Признак 3 стоит проанализировать отдельно.\n",
    "\n",
    "Давайте те же сделаем это."
   ]
  },
  {
   "cell_type": "code",
   "execution_count": 8,
   "metadata": {},
   "outputs": [
    {
     "data": {
      "image/png": "[encoded data removed]",
      "text/plain": [
       "<Figure size 720x360 with 1 Axes>"
      ]
     },
     "metadata": {},
     "output_type": "display_data"
    }
   ],
   "source": [
    "custom_params = {\"axes.spines.right\": False, \"axes.spines.top\": False}\n",
    "sns.set_theme(style=\"ticks\", rc=custom_params)\n",
    "sns.displot(df, x=\"feature_3\", kde=True).set(title='Распределение Feature 3')\n",
    "plt.gcf().set_size_inches(10, 5)"
   ]
  },
  {
   "cell_type": "markdown",
   "metadata": {},
   "source": [
    "Большинство значений признака 3 лежит в диапазоне областей от -3 до 2, далее следует промежуток от 2 до 32, и далее имеется небольшое прореженное количество наблюдений.\n",
    "\n",
    "Попробуем еще поэксперименти́ровать с признаком 3."
   ]
  },
  {
   "cell_type": "code",
   "execution_count": 11,
   "metadata": {},
   "outputs": [
    {
     "data": {
      "image/png": "[encoded data removed]",
      "text/plain": [
       "<Figure size 1080x576 with 1 Axes>"
      ]
     },
     "metadata": {},
     "output_type": "display_data"
    }
   ],
   "source": [
    "sns.displot(df, x=\"feature_3\", bins = range(-10, 63, 36), kde=True).set(title='Распределение Feature 3')\n",
    "plt.gcf().set_size_inches(15, 8)"
   ]
  },
  {
   "cell_type": "markdown",
   "metadata": {},
   "source": [
    "Сведя гистограмму к двум диапазонам мы видим сильный перекос в количестве наблюдений. Если в дальнейшем использовать данный признак для построения моделей необходимо провести работу с данными для устранения неравномерности распределения (удалить пропуски, нормализовать значения) либо удалить наблюдения, которые в данном случае выглядят как выбросы.\n",
    "\n",
    "Например вот так. При этом длина отфильтрованного датасета составляет 90% исходного."
   ]
  },
  {
   "cell_type": "code",
   "execution_count": 12,
   "metadata": {},
   "outputs": [
    {
     "data": {
      "image/png": "[encoded data removed]",
      "text/plain": [
       "<Figure size 1080x576 with 1 Axes>"
      ]
     },
     "metadata": {},
     "output_type": "display_data"
    }
   ],
   "source": [
    "sns.displot(df[df['feature_3'] < 5], x=\"feature_3\", kde=True).set(title='Распределение Feature 3')\n",
    "plt.gcf().set_size_inches(15, 8)"
   ]
  },
  {
   "cell_type": "markdown",
   "metadata": {
    "id": "Ve0XuZ2xzI_-"
   },
   "source": [
    "Постройте ящик с усами для каждой переменной. Опишите распределение данных. Прокомментируйте наличие или отсутствие выбросов."
   ]
  },
  {
   "cell_type": "code",
   "execution_count": 13,
   "metadata": {
    "id": "lxUDLzT0zJAC"
   },
   "outputs": [
    {
     "data": {
      "application/vnd.plotly.v1+json": {
       "config": {
        "linkText": "Export to plot.ly",
        "plotlyServerURL": "https://plot.ly",
        "showLink": true
       },
       "data": [
        {
         "boxpoints": "outliers",
         "line": {
          "width": 1.3
         },
         "marker": {
          "color": "rgba(255, 153, 51, 1.0)"
         },
         "name": "feature_1",
         "orientation": "v",
         "type": "box",
         "y": [
          2.4399302341553932,
          1.7705797495879034,
          0.7428169764168391,
          -1.510891800324271,
          -0.4835110394772655,
          -0.8207679921589732,
          1.1893080736924782,
          -1.1094706878239131,
          -1.0658749104876244,
          0.6008767649580005,
          -3.0424895907346152,
          1.1719406211798833,
          1.5548505364368634,
          1.9543062151266581,
          1.2082360755295034,
          0.9978458812126783,
          0.8493547525228127,
          -1.2955145974861066,
          -0.8282148229897105,
          -1.0534014708487436,
          -0.9934852709432975,
          -1.5983978083088837,
          2.1125316264313296,
          0.9143752065121955,
          0.09496976757788511,
          0.3773306788594477,
          -1.8450449955703918,
          -0.48665324992079684,
          1.2306812289452023,
          -1.8272693301191845,
          -1.4273284718039396,
          -0.4982681207868964,
          0.829973501648437,
          0.7293391453104703,
          -1.5470693293464153,
          0.5066848892161493,
          -2.4029269811496476,
          0.9922474176827119,
          -0.3748973993510267,
          1.8321291196112752,
          0.7215585973310825,
          -1.702207368840754,
          -1.8664727531862284,
          0.3204744366453893,
          1.350268382617556,
          -1.1724689665381967,
          0.4663864332422265,
          -1.9591523713983818,
          0.7663584412034281,
          -0.23048423698565668,
          1.0584183488631471,
          -0.9164024596775366,
          -1.2811880208194042,
          -0.6709492689784404,
          0.4639062234420963,
          -0.8885946165863351,
          -1.2375527788656318,
          0.5696597727721296,
          -1.5720663745322563,
          -1.5012589252716417,
          -1.1907825275960935,
          1.3360467564299343,
          1.4433755873955518,
          0.3651960619401565,
          -1.467589298555228,
          -2.5530464337646057,
          1.4146975515426963,
          0.34801588786657345,
          0.6089024598713808,
          0.3512421337572482,
          -1.8396940988306416,
          -1.99834432025729,
          -1.0081173742514982,
          0.421925329622016,
          0.5885600243271989,
          -0.0062665725818258355,
          -1.8502045059745205,
          -0.8634258358524032,
          0.014773068926284605,
          0.8152388112923633,
          0.5445779418509287,
          -0.6320448131123599,
          0.23543212961666926,
          1.2818085742776653,
          -0.7997985708072273,
          -0.0387332765653301,
          -0.6051031055182149,
          -1.8631212597860816,
          1.1284233697401898,
          2.289239127114678,
          1.1742285190698962,
          -1.0033819846687557,
          1.3419352156714774,
          0.37303876731613017,
          -0.09363148192885351,
          0.10764850635557899,
          1.759629548272443,
          0.8438229416103058,
          0.8671537593957526,
          1.0427784677927838
         ]
        },
        {
         "boxpoints": "outliers",
         "line": {
          "width": 1.3
         },
         "marker": {
          "color": "rgba(55, 128, 191, 1.0)"
         },
         "name": "feature_2",
         "orientation": "v",
         "type": "box",
         "y": [
          -2.180960698389708,
          -1.174880454210172,
          -0.2634829113111655,
          2.7125712625192238,
          0.096511221663355,
          -2.052828547226813,
          0.29148980871121555,
          -0.6409316918958474,
          1.1231348045140328,
          -1.074064387830743,
          0.7022213209460029,
          -1.2835419607880394,
          -1.2599892409463032,
          -0.8974657277095042,
          0.23852860492772507,
          0.8152468670268772,
          1.2301635637200745,
          -1.3619764399440313,
          -1.876484912285567,
          1.9921878514756732,
          1.7665072257123788,
          -1.189975371616064,
          -1.5022668791457292,
          0.986009757345896,
          -2.709318672725955,
          -0.5009544163896782,
          -0.43151167428829745,
          -1.1990924779981063,
          0.17190649899827637,
          1.9257123195631685,
          2.279236627206882,
          -0.11194172465402263,
          1.2606171315956547,
          1.5216834069603875,
          1.5382134176272073,
          2.134805889847065,
          0.30326620773759594,
          0.8145208699272313,
          -0.8890679526823145,
          -0.9421529111295353,
          1.5164387723590433,
          -0.37338008444089826,
          2.075271225938834,
          -0.07654259522604917,
          -0.18604611671687468,
          0.9842504577658542,
          -1.2871911250482289,
          2.599222099868858,
          -2.024772649779472,
          1.094269492184624,
          0.6484918966909811,
          0.28165857634052455,
          -0.6522175122639264,
          1.2553933371659658,
          -1.7537542937269996,
          1.1832665324900322,
          0.9647264838788392,
          1.9340814082095508,
          1.2125031074578532,
          1.1318459184778287,
          1.374284167489772,
          -0.1324940929940581,
          -1.2123747032402383,
          -1.0234593343662755,
          1.4458208191871456,
          2.0859660957406465,
          -0.3670992186909322,
          -0.9380739988707485,
          1.8413689596746297,
          0.06298246633401602,
          1.6729729187902829,
          -0.06268543306129581,
          0.6060920723909577,
          2.347082276979988,
          -1.018221438373623,
          -1.422085574540508,
          -0.8648897407970788,
          1.1867477515946099,
          -2.1550895935877117,
          1.2873934622818628,
          -0.4569192910218478,
          -1.5971430750281101,
          -1.5897594798089487,
          -3.593247695768165,
          -0.7507654586599853,
          -1.2451862521668886,
          1.1037349245700019,
          -0.8802434625764965,
          0.4686928191447375,
          -1.5860402581821036,
          -2.384193145682434,
          0.519978183427964,
          -0.13151348884311087,
          2.4776570020988053,
          -0.6529417475029389,
          -3.101785656930369,
          -1.4285652188163707,
          1.1876556600977073,
          1.1115564316783124,
          0.6775501184540956
         ]
        },
        {
         "boxpoints": "outliers",
         "line": {
          "width": 1.3
         },
         "marker": {
          "color": "rgba(50, 171, 96, 1.0)"
         },
         "name": "feature_3",
         "orientation": "v",
         "type": "box",
         "y": [
          33.4684964804719,
          0.9895926481354946,
          0.16814863490368492,
          -2.6856430298672915,
          -0.028703495808161117,
          39.745740570561196,
          -0.49885199638660993,
          0.8626824515789266,
          -1.0434962920804174,
          1.0629932974192717,
          -0.28282392292728686,
          1.199710279709108,
          1.1147879092378965,
          0.66231677454757,
          -0.44477216898470096,
          -1.0330066809059986,
          -1.4566555681139062,
          1.6679820175801416,
          36.53761102229992,
          -1.9811592370491766,
          -1.7474856134947818,
          1.529900246833097,
          1.2889029516343866,
          -1.2038855715826782,
          49.3406619757111,
          0.48069032589897065,
          0.7516175394025661,
          1.366781538331751,
          -0.3765305435827142,
          -1.78920652725561,
          -2.2320635512601648,
          0.19803647790493062,
          -1.4864305765627406,
          -1.751870635810515,
          -1.4155665119055911,
          -2.377394415220794,
          0.04725122665594772,
          -1.0313541307897267,
          1.015589444563846,
          0.7294371636981993,
          -1.7450133699631127,
          0.6668075446476553,
          -1.9441406703565256,
          0.032563809078121064,
          -0.009719649805559838,
          -0.8773763702435947,
          1.3133904830728946,
          -2.4938699679548915,
          35.03520139052407,
          -1.1423641217289702,
          -0.8628812932578114,
          -0.1607169024276709,
          0.9015452180607681,
          -1.2473329509702973,
          1.8161319632927342,
          -1.1358175273283133,
          -0.8462306256468519,
          -2.171067239994591,
          -1.060980889626357,
          -0.985150378063341,
          -1.2944828812954063,
          -0.06516771304068913,
          1.080860876868438,
          1.045166912662631,
          -1.3284493524258112,
          -1.8488573825822225,
          0.17520083256653196,
          0.9559036484620519,
          -2.0773466522650077,
          -0.12245096018957913,
          -1.5151454512159035,
          0.3783428776658717,
          -0.49577286036867774,
          -2.5927710308022656,
          1.0047822488004776,
          1.5321560009297648,
          1.219044887568182,
          -1.1434808891399717,
          39.40803697804341,
          -1.512969034246543,
          0.40726121642771884,
          30.905741301630083,
          1.675096085022889,
          62.38176113518428,
          0.9327717061088918,
          1.346736098069437,
          -1.0942825965432197,
          1.2375857140703086,
          -0.6801783787760418,
          1.3516156385366112,
          40.53551909160946,
          -0.40378932759391306,
          -0.06713951216231806,
          -2.725758374886864,
          0.7175969938927949,
          56.49091243959598,
          1.2644422383976943,
          -1.4100261703323511,
          -1.3317181504522202,
          -0.891735892690191
         ]
        },
        {
         "boxpoints": "outliers",
         "line": {
          "width": 1.3
         },
         "marker": {
          "color": "rgba(128, 0, 128, 1.0)"
         },
         "name": "feature_4",
         "orientation": "v",
         "type": "box",
         "y": [
          -1.9273880121739875,
          -1.1396809115663187,
          -0.3324379721161745,
          2.0584952423727403,
          0.1687629004635419,
          -1.1212477329313226,
          -0.0792365800326932,
          -0.1604280685609386,
          0.9501815443536015,
          -0.815661648807927,
          1.1222231039890345,
          -1.0756264106052267,
          -1.1457797098132518,
          -1.0043416503579732,
          -0.11707767377633246,
          0.295941095290254,
          0.5924465438916577,
          -0.576986857335347,
          -1.0076025347448625,
          1.4993156386251136,
          1.3426755959713825,
          -0.4004317082244565,
          -1.4236000609359039,
          0.4229402581750317,
          -1.7417072442830457,
          -0.40201017461909555,
          0.1360665068166386,
          -0.6533333787127179,
          -0.1643761216630504,
          1.6291098033499751,
          1.7647249246695786,
          0.039661497422540964,
          0.6160945339345736,
          0.8042574026050098,
          1.320741049022097,
          1.2431212582194189,
          0.7267019951572988,
          0.29672443056562336,
          -0.48128753869440427,
          -1.005564221863436,
          0.8026561220954511,
          0.1412348775494442,
          1.7328035723003405,
          -0.11984272453067284,
          -0.41828098510217043,
          0.885673793665844,
          -0.9211176547005268,
          2.0861475541822023,
          -1.4562070093363897,
          0.7461646780029352,
          0.17657690050406238,
          0.38256423789983846,
          -0.12942705069679603,
          0.9463929010073026,
          -1.2168650808011159,
          0.9489644332165824,
          0.8877411958610082,
          1.1016501653131912,
          1.1194494797162589,
          1.0524881467346172,
          1.1374418228108012,
          -0.38111078536794685,
          -1.0907633427392336,
          -0.7311384185633247,
          1.2443992610359451,
          1.8922028762521725,
          -0.547582690239825,
          -0.673094336227556,
          1.0340489589367365,
          -0.03807386342876605,
          1.4713651377196306,
          0.4043701799980029,
          0.608986957255126,
          1.3967707441015107,
          -0.7774599646991737,
          -0.9017262367391822,
          -0.13801062903158237,
          0.9455808785751785,
          -1.3719092099485908,
          0.636374424532873,
          -0.4112196213431265,
          -0.873805303777225,
          -1.0619336349455974,
          -2.5668642789200806,
          -0.2990118333509694,
          -0.7821668774281054,
          0.8354438222089385,
          -0.14489020969398234,
          0.04683221860274922,
          -1.5160791903687023,
          -1.7751218188408773,
          0.5532463445843161,
          -0.3817968866464933,
          1.490560600790528,
          -0.3938497064167805,
          -1.9937680914933749,
          -1.29835370396105,
          0.566680768339602,
          0.5131668559607284,
          0.19850714423012655
         ]
        },
        {
         "boxpoints": "outliers",
         "line": {
          "width": 1.3
         },
         "marker": {
          "color": "rgba(219, 64, 82, 1.0)"
         },
         "name": "feature_5",
         "orientation": "v",
         "type": "box",
         "y": [
          -5.3213919475057105,
          -2.0802195404111687,
          -0.19571957951766614,
          -4.098401678335551,
          -0.04666424110766956,
          1.6848959649539732,
          0.3466711828993247,
          0.7110949250558302,
          -1.1971212092269303,
          -0.645380334716332,
          -2.1365010593701252,
          -1.5042349628363803,
          -1.9590949471900359,
          -1.753922849525853,
          0.2881988655194019,
          0.8134907284343095,
          1.0448452692260453,
          1.7644603593796522,
          1.5541326194714533,
          -2.0985736129514727,
          -1.7549989097601555,
          1.902054025932666,
          -3.173586293535645,
          0.9015828754961934,
          -0.25730336464320813,
          -0.1890254700139557,
          0.7961584551758242,
          0.58354225137336,
          0.21156210145086596,
          -3.5187950601704516,
          -3.2532193319907647,
          0.05577699278100405,
          1.046278814948454,
          1.1098232754656137,
          -2.379722800400181,
          1.0816738857951431,
          -0.7287265530436033,
          0.8082062298339713,
          0.3333092633069414,
          -1.7261457836069554,
          1.09419943352186,
          0.63557033111368,
          -3.8734371986862155,
          -0.024529945084444175,
          -0.25121218911157145,
          -1.154003117031478,
          -0.6003284777122923,
          -5.092272140749155,
          -1.551701611676331,
          -0.2522118689628551,
          0.6863757225467988,
          -0.2581126121477299,
          0.8356132636811754,
          -0.8423052418519096,
          -0.8135775312482533,
          -1.0514442707574223,
          -1.1938999409695275,
          1.1017683755234533,
          -1.906135364250362,
          -1.6991937871471192,
          -1.6364735745987637,
          -0.1770183031908374,
          -1.7499120494328868,
          -0.3737633184664577,
          -2.121871161867408,
          -5.325568301684536,
          -0.5193343658552986,
          -0.3264646556015506,
          1.1212140890766875,
          0.02212209586445384,
          -3.0777584062019576,
          0.12526707912090904,
          -0.6110119485734212,
          0.9902934633647734,
          -0.599284434539655,
          0.008911602470425588,
          1.6002228955938902,
          -1.0246686693665361,
          -0.03183728710838994,
          1.0495331158562258,
          -0.2488281670966634,
          1.0094659963698418,
          -0.3742804599097091,
          -4.605855705939097,
          0.6004611408476888,
          0.04823014348052696,
          -0.6678734305262208,
          1.6400003089139847,
          0.5288839303523339,
          -3.6308254162095377,
          -2.7995875866312816,
          -0.5217367416724048,
          -0.17648258201438843,
          0.9242621138951169,
          0.06113590343191545,
          -0.33390259300371256,
          -2.513745570663574,
          1.0021710927237768,
          0.9638903385103766,
          0.706534674374381
         ]
        }
       ],
       "layout": {
        "legend": {
         "bgcolor": "#F5F6F9",
         "font": {
          "color": "#4D5663"
         }
        },
        "paper_bgcolor": "#F5F6F9",
        "plot_bgcolor": "#F5F6F9",
        "template": {
         "data": {
          "bar": [
           {
            "error_x": {
             "color": "#2a3f5f"
            },
            "error_y": {
             "color": "#2a3f5f"
            },
            "marker": {
             "line": {
              "color": "#E5ECF6",
              "width": 0.5
             },
             "pattern": {
              "fillmode": "overlay",
              "size": 10,
              "solidity": 0.2
             }
            },
            "type": "bar"
           }
          ],
          "barpolar": [
           {
            "marker": {
             "line": {
              "color": "#E5ECF6",
              "width": 0.5
             },
             "pattern": {
              "fillmode": "overlay",
              "size": 10,
              "solidity": 0.2
             }
            },
            "type": "barpolar"
           }
          ],
          "carpet": [
           {
            "aaxis": {
             "endlinecolor": "#2a3f5f",
             "gridcolor": "white",
             "linecolor": "white",
             "minorgridcolor": "white",
             "startlinecolor": "#2a3f5f"
            },
            "baxis": {
             "endlinecolor": "#2a3f5f",
             "gridcolor": "white",
             "linecolor": "white",
             "minorgridcolor": "white",
             "startlinecolor": "#2a3f5f"
            },
            "type": "carpet"
           }
          ],
          "choropleth": [
           {
            "colorbar": {
             "outlinewidth": 0,
             "ticks": ""
            },
            "type": "choropleth"
           }
          ],
          "contour": [
           {
            "colorbar": {
             "outlinewidth": 0,
             "ticks": ""
            },
            "colorscale": [
             [
              0,
              "#0d0887"
             ],
             [
              0.1111111111111111,
              "#46039f"
             ],
             [
              0.2222222222222222,
              "#7201a8"
             ],
             [
              0.3333333333333333,
              "#9c179e"
             ],
             [
              0.4444444444444444,
              "#bd3786"
             ],
             [
              0.5555555555555556,
              "#d8576b"
             ],
             [
              0.6666666666666666,
              "#ed7953"
             ],
             [
              0.7777777777777778,
              "#fb9f3a"
             ],
             [
              0.8888888888888888,
              "#fdca26"
             ],
             [
              1,
              "#f0f921"
             ]
            ],
            "type": "contour"
           }
          ],
          "contourcarpet": [
           {
            "colorbar": {
             "outlinewidth": 0,
             "ticks": ""
            },
            "type": "contourcarpet"
           }
          ],
          "heatmap": [
           {
            "colorbar": {
             "outlinewidth": 0,
             "ticks": ""
            },
            "colorscale": [
             [
              0,
              "#0d0887"
             ],
             [
              0.1111111111111111,
              "#46039f"
             ],
             [
              0.2222222222222222,
              "#7201a8"
             ],
             [
              0.3333333333333333,
              "#9c179e"
             ],
             [
              0.4444444444444444,
              "#bd3786"
             ],
             [
              0.5555555555555556,
              "#d8576b"
             ],
             [
              0.6666666666666666,
              "#ed7953"
             ],
             [
              0.7777777777777778,
              "#fb9f3a"
             ],
             [
              0.8888888888888888,
              "#fdca26"
             ],
             [
              1,
              "#f0f921"
             ]
            ],
            "type": "heatmap"
           }
          ],
          "heatmapgl": [
           {
            "colorbar": {
             "outlinewidth": 0,
             "ticks": ""
            },
            "colorscale": [
             [
              0,
              "#0d0887"
             ],
             [
              0.1111111111111111,
              "#46039f"
             ],
             [
              0.2222222222222222,
              "#7201a8"
             ],
             [
              0.3333333333333333,
              "#9c179e"
             ],
             [
              0.4444444444444444,
              "#bd3786"
             ],
             [
              0.5555555555555556,
              "#d8576b"
             ],
             [
              0.6666666666666666,
              "#ed7953"
             ],
             [
              0.7777777777777778,
              "#fb9f3a"
             ],
             [
              0.8888888888888888,
              "#fdca26"
             ],
             [
              1,
              "#f0f921"
             ]
            ],
            "type": "heatmapgl"
           }
          ],
          "histogram": [
           {
            "marker": {
             "pattern": {
              "fillmode": "overlay",
              "size": 10,
              "solidity": 0.2
             }
            },
            "type": "histogram"
           }
          ],
          "histogram2d": [
           {
            "colorbar": {
             "outlinewidth": 0,
             "ticks": ""
            },
            "colorscale": [
             [
              0,
              "#0d0887"
             ],
             [
              0.1111111111111111,
              "#46039f"
             ],
             [
              0.2222222222222222,
              "#7201a8"
             ],
             [
              0.3333333333333333,
              "#9c179e"
             ],
             [
              0.4444444444444444,
              "#bd3786"
             ],
             [
              0.5555555555555556,
              "#d8576b"
             ],
             [
              0.6666666666666666,
              "#ed7953"
             ],
             [
              0.7777777777777778,
              "#fb9f3a"
             ],
             [
              0.8888888888888888,
              "#fdca26"
             ],
             [
              1,
              "#f0f921"
             ]
            ],
            "type": "histogram2d"
           }
          ],
          "histogram2dcontour": [
           {
            "colorbar": {
             "outlinewidth": 0,
             "ticks": ""
            },
            "colorscale": [
             [
              0,
              "#0d0887"
             ],
             [
              0.1111111111111111,
              "#46039f"
             ],
             [
              0.2222222222222222,
              "#7201a8"
             ],
             [
              0.3333333333333333,
              "#9c179e"
             ],
             [
              0.4444444444444444,
              "#bd3786"
             ],
             [
              0.5555555555555556,
              "#d8576b"
             ],
             [
              0.6666666666666666,
              "#ed7953"
             ],
             [
              0.7777777777777778,
              "#fb9f3a"
             ],
             [
              0.8888888888888888,
              "#fdca26"
             ],
             [
              1,
              "#f0f921"
             ]
            ],
            "type": "histogram2dcontour"
           }
          ],
          "mesh3d": [
           {
            "colorbar": {
             "outlinewidth": 0,
             "ticks": ""
            },
            "type": "mesh3d"
           }
          ],
          "parcoords": [
           {
            "line": {
             "colorbar": {
              "outlinewidth": 0,
              "ticks": ""
             }
            },
            "type": "parcoords"
           }
          ],
          "pie": [
           {
            "automargin": true,
            "type": "pie"
           }
          ],
          "scatter": [
           {
            "fillpattern": {
             "fillmode": "overlay",
             "size": 10,
             "solidity": 0.2
            },
            "type": "scatter"
           }
          ],
          "scatter3d": [
           {
            "line": {
             "colorbar": {
              "outlinewidth": 0,
              "ticks": ""
             }
            },
            "marker": {
             "colorbar": {
              "outlinewidth": 0,
              "ticks": ""
             }
            },
            "type": "scatter3d"
           }
          ],
          "scattercarpet": [
           {
            "marker": {
             "colorbar": {
              "outlinewidth": 0,
              "ticks": ""
             }
            },
            "type": "scattercarpet"
           }
          ],
          "scattergeo": [
           {
            "marker": {
             "colorbar": {
              "outlinewidth": 0,
              "ticks": ""
             }
            },
            "type": "scattergeo"
           }
          ],
          "scattergl": [
           {
            "marker": {
             "colorbar": {
              "outlinewidth": 0,
              "ticks": ""
             }
            },
            "type": "scattergl"
           }
          ],
          "scattermapbox": [
           {
            "marker": {
             "colorbar": {
              "outlinewidth": 0,
              "ticks": ""
             }
            },
            "type": "scattermapbox"
           }
          ],
          "scatterpolar": [
           {
            "marker": {
             "colorbar": {
              "outlinewidth": 0,
              "ticks": ""
             }
            },
            "type": "scatterpolar"
           }
          ],
          "scatterpolargl": [
           {
            "marker": {
             "colorbar": {
              "outlinewidth": 0,
              "ticks": ""
             }
            },
            "type": "scatterpolargl"
           }
          ],
          "scatterternary": [
           {
            "marker": {
             "colorbar": {
              "outlinewidth": 0,
              "ticks": ""
             }
            },
            "type": "scatterternary"
           }
          ],
          "surface": [
           {
            "colorbar": {
             "outlinewidth": 0,
             "ticks": ""
            },
            "colorscale": [
             [
              0,
              "#0d0887"
             ],
             [
              0.1111111111111111,
              "#46039f"
             ],
             [
              0.2222222222222222,
              "#7201a8"
             ],
             [
              0.3333333333333333,
              "#9c179e"
             ],
             [
              0.4444444444444444,
              "#bd3786"
             ],
             [
              0.5555555555555556,
              "#d8576b"
             ],
             [
              0.6666666666666666,
              "#ed7953"
             ],
             [
              0.7777777777777778,
              "#fb9f3a"
             ],
             [
              0.8888888888888888,
              "#fdca26"
             ],
             [
              1,
              "#f0f921"
             ]
            ],
            "type": "surface"
           }
          ],
          "table": [
           {
            "cells": {
             "fill": {
              "color": "#EBF0F8"
             },
             "line": {
              "color": "white"
             }
            },
            "header": {
             "fill": {
              "color": "#C8D4E3"
             },
             "line": {
              "color": "white"
             }
            },
            "type": "table"
           }
          ]
         },
         "layout": {
          "annotationdefaults": {
           "arrowcolor": "#2a3f5f",
           "arrowhead": 0,
           "arrowwidth": 1
          },
          "autotypenumbers": "strict",
          "coloraxis": {
           "colorbar": {
            "outlinewidth": 0,
            "ticks": ""
           }
          },
          "colorscale": {
           "diverging": [
            [
             0,
             "#8e0152"
            ],
            [
             0.1,
             "#c51b7d"
            ],
            [
             0.2,
             "#de77ae"
            ],
            [
             0.3,
             "#f1b6da"
            ],
            [
             0.4,
             "#fde0ef"
            ],
            [
             0.5,
             "#f7f7f7"
            ],
            [
             0.6,
             "#e6f5d0"
            ],
            [
             0.7,
             "#b8e186"
            ],
            [
             0.8,
             "#7fbc41"
            ],
            [
             0.9,
             "#4d9221"
            ],
            [
             1,
             "#276419"
            ]
           ],
           "sequential": [
            [
             0,
             "#0d0887"
            ],
            [
             0.1111111111111111,
             "#46039f"
            ],
            [
             0.2222222222222222,
             "#7201a8"
            ],
            [
             0.3333333333333333,
             "#9c179e"
            ],
            [
             0.4444444444444444,
             "#bd3786"
            ],
            [
             0.5555555555555556,
             "#d8576b"
            ],
            [
             0.6666666666666666,
             "#ed7953"
            ],
            [
             0.7777777777777778,
             "#fb9f3a"
            ],
            [
             0.8888888888888888,
             "#fdca26"
            ],
            [
             1,
             "#f0f921"
            ]
           ],
           "sequentialminus": [
            [
             0,
             "#0d0887"
            ],
            [
             0.1111111111111111,
             "#46039f"
            ],
            [
             0.2222222222222222,
             "#7201a8"
            ],
            [
             0.3333333333333333,
             "#9c179e"
            ],
            [
             0.4444444444444444,
             "#bd3786"
            ],
            [
             0.5555555555555556,
             "#d8576b"
            ],
            [
             0.6666666666666666,
             "#ed7953"
            ],
            [
             0.7777777777777778,
             "#fb9f3a"
            ],
            [
             0.8888888888888888,
             "#fdca26"
            ],
            [
             1,
             "#f0f921"
            ]
           ]
          },
          "colorway": [
           "#636efa",
           "#EF553B",
           "#00cc96",
           "#ab63fa",
           "#FFA15A",
           "#19d3f3",
           "#FF6692",
           "#B6E880",
           "#FF97FF",
           "#FECB52"
          ],
          "font": {
           "color": "#2a3f5f"
          },
          "geo": {
           "bgcolor": "white",
           "lakecolor": "white",
           "landcolor": "#E5ECF6",
           "showlakes": true,
           "showland": true,
           "subunitcolor": "white"
          },
          "hoverlabel": {
           "align": "left"
          },
          "hovermode": "closest",
          "mapbox": {
           "style": "light"
          },
          "paper_bgcolor": "white",
          "plot_bgcolor": "#E5ECF6",
          "polar": {
           "angularaxis": {
            "gridcolor": "white",
            "linecolor": "white",
            "ticks": ""
           },
           "bgcolor": "#E5ECF6",
           "radialaxis": {
            "gridcolor": "white",
            "linecolor": "white",
            "ticks": ""
           }
          },
          "scene": {
           "xaxis": {
            "backgroundcolor": "#E5ECF6",
            "gridcolor": "white",
            "gridwidth": 2,
            "linecolor": "white",
            "showbackground": true,
            "ticks": "",
            "zerolinecolor": "white"
           },
           "yaxis": {
            "backgroundcolor": "#E5ECF6",
            "gridcolor": "white",
            "gridwidth": 2,
            "linecolor": "white",
            "showbackground": true,
            "ticks": "",
            "zerolinecolor": "white"
           },
           "zaxis": {
            "backgroundcolor": "#E5ECF6",
            "gridcolor": "white",
            "gridwidth": 2,
            "linecolor": "white",
            "showbackground": true,
            "ticks": "",
            "zerolinecolor": "white"
           }
          },
          "shapedefaults": {
           "line": {
            "color": "#2a3f5f"
           }
          },
          "ternary": {
           "aaxis": {
            "gridcolor": "white",
            "linecolor": "white",
            "ticks": ""
           },
           "baxis": {
            "gridcolor": "white",
            "linecolor": "white",
            "ticks": ""
           },
           "bgcolor": "#E5ECF6",
           "caxis": {
            "gridcolor": "white",
            "linecolor": "white",
            "ticks": ""
           }
          },
          "title": {
           "x": 0.05
          },
          "xaxis": {
           "automargin": true,
           "gridcolor": "white",
           "linecolor": "white",
           "ticks": "",
           "title": {
            "standoff": 15
           },
           "zerolinecolor": "white",
           "zerolinewidth": 2
          },
          "yaxis": {
           "automargin": true,
           "gridcolor": "white",
           "linecolor": "white",
           "ticks": "",
           "title": {
            "standoff": 15
           },
           "zerolinecolor": "white",
           "zerolinewidth": 2
          }
         }
        },
        "title": {
         "font": {
          "color": "#4D5663"
         }
        },
        "xaxis": {
         "gridcolor": "#E1E5ED",
         "showgrid": true,
         "tickfont": {
          "color": "#4D5663"
         },
         "title": {
          "font": {
           "color": "#4D5663"
          },
          "text": ""
         },
         "zerolinecolor": "#E1E5ED"
        },
        "yaxis": {
         "gridcolor": "#E1E5ED",
         "showgrid": true,
         "tickfont": {
          "color": "#4D5663"
         },
         "title": {
          "font": {
           "color": "#4D5663"
          },
          "text": ""
         },
         "zerolinecolor": "#E1E5ED"
        }
       }
      },
      "text/html": [
       "<div>                            <div id=\"61ed2a64-6c36-428f-877e-60c8803d8352\" class=\"plotly-graph-div\" style=\"height:525px; width:100%;\"></div>            <script type=\"text/javascript\">                require([\"plotly\"], function(Plotly) {                    window.PLOTLYENV=window.PLOTLYENV || {};\n",
       "                    window.PLOTLYENV.BASE_URL='https://plot.ly';                                    if (document.getElementById(\"61ed2a64-6c36-428f-877e-60c8803d8352\")) {                    Plotly.newPlot(                        \"61ed2a64-6c36-428f-877e-60c8803d8352\",                        [{\"boxpoints\":\"outliers\",\"line\":{\"width\":1.3},\"marker\":{\"color\":\"rgba(255, 153, 51, 1.0)\"},\"name\":\"feature_1\",\"orientation\":\"v\",\"y\":[2.4399302341553932,1.7705797495879034,0.7428169764168391,-1.510891800324271,-0.4835110394772655,-0.8207679921589732,1.1893080736924782,-1.1094706878239131,-1.0658749104876244,0.6008767649580005,-3.0424895907346152,1.1719406211798833,1.5548505364368634,1.9543062151266581,1.2082360755295034,0.9978458812126783,0.8493547525228127,-1.2955145974861066,-0.8282148229897105,-1.0534014708487436,-0.9934852709432975,-1.5983978083088837,2.1125316264313296,0.9143752065121955,0.09496976757788511,0.3773306788594477,-1.8450449955703918,-0.48665324992079684,1.2306812289452023,-1.8272693301191845,-1.4273284718039396,-0.4982681207868964,0.829973501648437,0.7293391453104703,-1.5470693293464153,0.5066848892161493,-2.4029269811496476,0.9922474176827119,-0.3748973993510267,1.8321291196112752,0.7215585973310825,-1.702207368840754,-1.8664727531862284,0.3204744366453893,1.350268382617556,-1.1724689665381967,0.4663864332422265,-1.9591523713983818,0.7663584412034281,-0.23048423698565668,1.0584183488631471,-0.9164024596775366,-1.2811880208194042,-0.6709492689784404,0.4639062234420963,-0.8885946165863351,-1.2375527788656318,0.5696597727721296,-1.5720663745322563,-1.5012589252716417,-1.1907825275960935,1.3360467564299343,1.4433755873955518,0.3651960619401565,-1.467589298555228,-2.5530464337646057,1.4146975515426963,0.34801588786657345,0.6089024598713808,0.3512421337572482,-1.8396940988306416,-1.99834432025729,-1.0081173742514982,0.421925329622016,0.5885600243271989,-0.0062665725818258355,-1.8502045059745205,-0.8634258358524032,0.014773068926284605,0.8152388112923633,0.5445779418509287,-0.6320448131123599,0.23543212961666926,1.2818085742776653,-0.7997985708072273,-0.0387332765653301,-0.6051031055182149,-1.8631212597860816,1.1284233697401898,2.289239127114678,1.1742285190698962,-1.0033819846687557,1.3419352156714774,0.37303876731613017,-0.09363148192885351,0.10764850635557899,1.759629548272443,0.8438229416103058,0.8671537593957526,1.0427784677927838],\"type\":\"box\"},{\"boxpoints\":\"outliers\",\"line\":{\"width\":1.3},\"marker\":{\"color\":\"rgba(55, 128, 191, 1.0)\"},\"name\":\"feature_2\",\"orientation\":\"v\",\"y\":[-2.180960698389708,-1.174880454210172,-0.2634829113111655,2.7125712625192238,0.096511221663355,-2.052828547226813,0.29148980871121555,-0.6409316918958474,1.1231348045140328,-1.074064387830743,0.7022213209460029,-1.2835419607880394,-1.2599892409463032,-0.8974657277095042,0.23852860492772507,0.8152468670268772,1.2301635637200745,-1.3619764399440313,-1.876484912285567,1.9921878514756732,1.7665072257123788,-1.189975371616064,-1.5022668791457292,0.986009757345896,-2.709318672725955,-0.5009544163896782,-0.43151167428829745,-1.1990924779981063,0.17190649899827637,1.9257123195631685,2.279236627206882,-0.11194172465402263,1.2606171315956547,1.5216834069603875,1.5382134176272073,2.134805889847065,0.30326620773759594,0.8145208699272313,-0.8890679526823145,-0.9421529111295353,1.5164387723590433,-0.37338008444089826,2.075271225938834,-0.07654259522604917,-0.18604611671687468,0.9842504577658542,-1.2871911250482289,2.599222099868858,-2.024772649779472,1.094269492184624,0.6484918966909811,0.28165857634052455,-0.6522175122639264,1.2553933371659658,-1.7537542937269996,1.1832665324900322,0.9647264838788392,1.9340814082095508,1.2125031074578532,1.1318459184778287,1.374284167489772,-0.1324940929940581,-1.2123747032402383,-1.0234593343662755,1.4458208191871456,2.0859660957406465,-0.3670992186909322,-0.9380739988707485,1.8413689596746297,0.06298246633401602,1.6729729187902829,-0.06268543306129581,0.6060920723909577,2.347082276979988,-1.018221438373623,-1.422085574540508,-0.8648897407970788,1.1867477515946099,-2.1550895935877117,1.2873934622818628,-0.4569192910218478,-1.5971430750281101,-1.5897594798089487,-3.593247695768165,-0.7507654586599853,-1.2451862521668886,1.1037349245700019,-0.8802434625764965,0.4686928191447375,-1.5860402581821036,-2.384193145682434,0.519978183427964,-0.13151348884311087,2.4776570020988053,-0.6529417475029389,-3.101785656930369,-1.4285652188163707,1.1876556600977073,1.1115564316783124,0.6775501184540956],\"type\":\"box\"},{\"boxpoints\":\"outliers\",\"line\":{\"width\":1.3},\"marker\":{\"color\":\"rgba(50, 171, 96, 1.0)\"},\"name\":\"feature_3\",\"orientation\":\"v\",\"y\":[33.4684964804719,0.9895926481354946,0.16814863490368492,-2.6856430298672915,-0.028703495808161117,39.745740570561196,-0.49885199638660993,0.8626824515789266,-1.0434962920804174,1.0629932974192717,-0.28282392292728686,1.199710279709108,1.1147879092378965,0.66231677454757,-0.44477216898470096,-1.0330066809059986,-1.4566555681139062,1.6679820175801416,36.53761102229992,-1.9811592370491766,-1.7474856134947818,1.529900246833097,1.2889029516343866,-1.2038855715826782,49.3406619757111,0.48069032589897065,0.7516175394025661,1.366781538331751,-0.3765305435827142,-1.78920652725561,-2.2320635512601648,0.19803647790493062,-1.4864305765627406,-1.751870635810515,-1.4155665119055911,-2.377394415220794,0.04725122665594772,-1.0313541307897267,1.015589444563846,0.7294371636981993,-1.7450133699631127,0.6668075446476553,-1.9441406703565256,0.032563809078121064,-0.009719649805559838,-0.8773763702435947,1.3133904830728946,-2.4938699679548915,35.03520139052407,-1.1423641217289702,-0.8628812932578114,-0.1607169024276709,0.9015452180607681,-1.2473329509702973,1.8161319632927342,-1.1358175273283133,-0.8462306256468519,-2.171067239994591,-1.060980889626357,-0.985150378063341,-1.2944828812954063,-0.06516771304068913,1.080860876868438,1.045166912662631,-1.3284493524258112,-1.8488573825822225,0.17520083256653196,0.9559036484620519,-2.0773466522650077,-0.12245096018957913,-1.5151454512159035,0.3783428776658717,-0.49577286036867774,-2.5927710308022656,1.0047822488004776,1.5321560009297648,1.219044887568182,-1.1434808891399717,39.40803697804341,-1.512969034246543,0.40726121642771884,30.905741301630083,1.675096085022889,62.38176113518428,0.9327717061088918,1.346736098069437,-1.0942825965432197,1.2375857140703086,-0.6801783787760418,1.3516156385366112,40.53551909160946,-0.40378932759391306,-0.06713951216231806,-2.725758374886864,0.7175969938927949,56.49091243959598,1.2644422383976943,-1.4100261703323511,-1.3317181504522202,-0.891735892690191],\"type\":\"box\"},{\"boxpoints\":\"outliers\",\"line\":{\"width\":1.3},\"marker\":{\"color\":\"rgba(128, 0, 128, 1.0)\"},\"name\":\"feature_4\",\"orientation\":\"v\",\"y\":[-1.9273880121739875,-1.1396809115663187,-0.3324379721161745,2.0584952423727403,0.1687629004635419,-1.1212477329313226,-0.0792365800326932,-0.1604280685609386,0.9501815443536015,-0.815661648807927,1.1222231039890345,-1.0756264106052267,-1.1457797098132518,-1.0043416503579732,-0.11707767377633246,0.295941095290254,0.5924465438916577,-0.576986857335347,-1.0076025347448625,1.4993156386251136,1.3426755959713825,-0.4004317082244565,-1.4236000609359039,0.4229402581750317,-1.7417072442830457,-0.40201017461909555,0.1360665068166386,-0.6533333787127179,-0.1643761216630504,1.6291098033499751,1.7647249246695786,0.039661497422540964,0.6160945339345736,0.8042574026050098,1.320741049022097,1.2431212582194189,0.7267019951572988,0.29672443056562336,-0.48128753869440427,-1.005564221863436,0.8026561220954511,0.1412348775494442,1.7328035723003405,-0.11984272453067284,-0.41828098510217043,0.885673793665844,-0.9211176547005268,2.0861475541822023,-1.4562070093363897,0.7461646780029352,0.17657690050406238,0.38256423789983846,-0.12942705069679603,0.9463929010073026,-1.2168650808011159,0.9489644332165824,0.8877411958610082,1.1016501653131912,1.1194494797162589,1.0524881467346172,1.1374418228108012,-0.38111078536794685,-1.0907633427392336,-0.7311384185633247,1.2443992610359451,1.8922028762521725,-0.547582690239825,-0.673094336227556,1.0340489589367365,-0.03807386342876605,1.4713651377196306,0.4043701799980029,0.608986957255126,1.3967707441015107,-0.7774599646991737,-0.9017262367391822,-0.13801062903158237,0.9455808785751785,-1.3719092099485908,0.636374424532873,-0.4112196213431265,-0.873805303777225,-1.0619336349455974,-2.5668642789200806,-0.2990118333509694,-0.7821668774281054,0.8354438222089385,-0.14489020969398234,0.04683221860274922,-1.5160791903687023,-1.7751218188408773,0.5532463445843161,-0.3817968866464933,1.490560600790528,-0.3938497064167805,-1.9937680914933749,-1.29835370396105,0.566680768339602,0.5131668559607284,0.19850714423012655],\"type\":\"box\"},{\"boxpoints\":\"outliers\",\"line\":{\"width\":1.3},\"marker\":{\"color\":\"rgba(219, 64, 82, 1.0)\"},\"name\":\"feature_5\",\"orientation\":\"v\",\"y\":[-5.3213919475057105,-2.0802195404111687,-0.19571957951766614,-4.098401678335551,-0.04666424110766956,1.6848959649539732,0.3466711828993247,0.7110949250558302,-1.1971212092269303,-0.645380334716332,-2.1365010593701252,-1.5042349628363803,-1.9590949471900359,-1.753922849525853,0.2881988655194019,0.8134907284343095,1.0448452692260453,1.7644603593796522,1.5541326194714533,-2.0985736129514727,-1.7549989097601555,1.902054025932666,-3.173586293535645,0.9015828754961934,-0.25730336464320813,-0.1890254700139557,0.7961584551758242,0.58354225137336,0.21156210145086596,-3.5187950601704516,-3.2532193319907647,0.05577699278100405,1.046278814948454,1.1098232754656137,-2.379722800400181,1.0816738857951431,-0.7287265530436033,0.8082062298339713,0.3333092633069414,-1.7261457836069554,1.09419943352186,0.63557033111368,-3.8734371986862155,-0.024529945084444175,-0.25121218911157145,-1.154003117031478,-0.6003284777122923,-5.092272140749155,-1.551701611676331,-0.2522118689628551,0.6863757225467988,-0.2581126121477299,0.8356132636811754,-0.8423052418519096,-0.8135775312482533,-1.0514442707574223,-1.1938999409695275,1.1017683755234533,-1.906135364250362,-1.6991937871471192,-1.6364735745987637,-0.1770183031908374,-1.7499120494328868,-0.3737633184664577,-2.121871161867408,-5.325568301684536,-0.5193343658552986,-0.3264646556015506,1.1212140890766875,0.02212209586445384,-3.0777584062019576,0.12526707912090904,-0.6110119485734212,0.9902934633647734,-0.599284434539655,0.008911602470425588,1.6002228955938902,-1.0246686693665361,-0.03183728710838994,1.0495331158562258,-0.2488281670966634,1.0094659963698418,-0.3742804599097091,-4.605855705939097,0.6004611408476888,0.04823014348052696,-0.6678734305262208,1.6400003089139847,0.5288839303523339,-3.6308254162095377,-2.7995875866312816,-0.5217367416724048,-0.17648258201438843,0.9242621138951169,0.06113590343191545,-0.33390259300371256,-2.513745570663574,1.0021710927237768,0.9638903385103766,0.706534674374381],\"type\":\"box\"}],                        {\"legend\":{\"bgcolor\":\"#F5F6F9\",\"font\":{\"color\":\"#4D5663\"}},\"paper_bgcolor\":\"#F5F6F9\",\"plot_bgcolor\":\"#F5F6F9\",\"template\":{\"data\":{\"barpolar\":[{\"marker\":{\"line\":{\"color\":\"#E5ECF6\",\"width\":0.5},\"pattern\":{\"fillmode\":\"overlay\",\"size\":10,\"solidity\":0.2}},\"type\":\"barpolar\"}],\"bar\":[{\"error_x\":{\"color\":\"#2a3f5f\"},\"error_y\":{\"color\":\"#2a3f5f\"},\"marker\":{\"line\":{\"color\":\"#E5ECF6\",\"width\":0.5},\"pattern\":{\"fillmode\":\"overlay\",\"size\":10,\"solidity\":0.2}},\"type\":\"bar\"}],\"carpet\":[{\"aaxis\":{\"endlinecolor\":\"#2a3f5f\",\"gridcolor\":\"white\",\"linecolor\":\"white\",\"minorgridcolor\":\"white\",\"startlinecolor\":\"#2a3f5f\"},\"baxis\":{\"endlinecolor\":\"#2a3f5f\",\"gridcolor\":\"white\",\"linecolor\":\"white\",\"minorgridcolor\":\"white\",\"startlinecolor\":\"#2a3f5f\"},\"type\":\"carpet\"}],\"choropleth\":[{\"colorbar\":{\"outlinewidth\":0,\"ticks\":\"\"},\"type\":\"choropleth\"}],\"contourcarpet\":[{\"colorbar\":{\"outlinewidth\":0,\"ticks\":\"\"},\"type\":\"contourcarpet\"}],\"contour\":[{\"colorbar\":{\"outlinewidth\":0,\"ticks\":\"\"},\"colorscale\":[[0.0,\"#0d0887\"],[0.1111111111111111,\"#46039f\"],[0.2222222222222222,\"#7201a8\"],[0.3333333333333333,\"#9c179e\"],[0.4444444444444444,\"#bd3786\"],[0.5555555555555556,\"#d8576b\"],[0.6666666666666666,\"#ed7953\"],[0.7777777777777778,\"#fb9f3a\"],[0.8888888888888888,\"#fdca26\"],[1.0,\"#f0f921\"]],\"type\":\"contour\"}],\"heatmapgl\":[{\"colorbar\":{\"outlinewidth\":0,\"ticks\":\"\"},\"colorscale\":[[0.0,\"#0d0887\"],[0.1111111111111111,\"#46039f\"],[0.2222222222222222,\"#7201a8\"],[0.3333333333333333,\"#9c179e\"],[0.4444444444444444,\"#bd3786\"],[0.5555555555555556,\"#d8576b\"],[0.6666666666666666,\"#ed7953\"],[0.7777777777777778,\"#fb9f3a\"],[0.8888888888888888,\"#fdca26\"],[1.0,\"#f0f921\"]],\"type\":\"heatmapgl\"}],\"heatmap\":[{\"colorbar\":{\"outlinewidth\":0,\"ticks\":\"\"},\"colorscale\":[[0.0,\"#0d0887\"],[0.1111111111111111,\"#46039f\"],[0.2222222222222222,\"#7201a8\"],[0.3333333333333333,\"#9c179e\"],[0.4444444444444444,\"#bd3786\"],[0.5555555555555556,\"#d8576b\"],[0.6666666666666666,\"#ed7953\"],[0.7777777777777778,\"#fb9f3a\"],[0.8888888888888888,\"#fdca26\"],[1.0,\"#f0f921\"]],\"type\":\"heatmap\"}],\"histogram2dcontour\":[{\"colorbar\":{\"outlinewidth\":0,\"ticks\":\"\"},\"colorscale\":[[0.0,\"#0d0887\"],[0.1111111111111111,\"#46039f\"],[0.2222222222222222,\"#7201a8\"],[0.3333333333333333,\"#9c179e\"],[0.4444444444444444,\"#bd3786\"],[0.5555555555555556,\"#d8576b\"],[0.6666666666666666,\"#ed7953\"],[0.7777777777777778,\"#fb9f3a\"],[0.8888888888888888,\"#fdca26\"],[1.0,\"#f0f921\"]],\"type\":\"histogram2dcontour\"}],\"histogram2d\":[{\"colorbar\":{\"outlinewidth\":0,\"ticks\":\"\"},\"colorscale\":[[0.0,\"#0d0887\"],[0.1111111111111111,\"#46039f\"],[0.2222222222222222,\"#7201a8\"],[0.3333333333333333,\"#9c179e\"],[0.4444444444444444,\"#bd3786\"],[0.5555555555555556,\"#d8576b\"],[0.6666666666666666,\"#ed7953\"],[0.7777777777777778,\"#fb9f3a\"],[0.8888888888888888,\"#fdca26\"],[1.0,\"#f0f921\"]],\"type\":\"histogram2d\"}],\"histogram\":[{\"marker\":{\"pattern\":{\"fillmode\":\"overlay\",\"size\":10,\"solidity\":0.2}},\"type\":\"histogram\"}],\"mesh3d\":[{\"colorbar\":{\"outlinewidth\":0,\"ticks\":\"\"},\"type\":\"mesh3d\"}],\"parcoords\":[{\"line\":{\"colorbar\":{\"outlinewidth\":0,\"ticks\":\"\"}},\"type\":\"parcoords\"}],\"pie\":[{\"automargin\":true,\"type\":\"pie\"}],\"scatter3d\":[{\"line\":{\"colorbar\":{\"outlinewidth\":0,\"ticks\":\"\"}},\"marker\":{\"colorbar\":{\"outlinewidth\":0,\"ticks\":\"\"}},\"type\":\"scatter3d\"}],\"scattercarpet\":[{\"marker\":{\"colorbar\":{\"outlinewidth\":0,\"ticks\":\"\"}},\"type\":\"scattercarpet\"}],\"scattergeo\":[{\"marker\":{\"colorbar\":{\"outlinewidth\":0,\"ticks\":\"\"}},\"type\":\"scattergeo\"}],\"scattergl\":[{\"marker\":{\"colorbar\":{\"outlinewidth\":0,\"ticks\":\"\"}},\"type\":\"scattergl\"}],\"scattermapbox\":[{\"marker\":{\"colorbar\":{\"outlinewidth\":0,\"ticks\":\"\"}},\"type\":\"scattermapbox\"}],\"scatterpolargl\":[{\"marker\":{\"colorbar\":{\"outlinewidth\":0,\"ticks\":\"\"}},\"type\":\"scatterpolargl\"}],\"scatterpolar\":[{\"marker\":{\"colorbar\":{\"outlinewidth\":0,\"ticks\":\"\"}},\"type\":\"scatterpolar\"}],\"scatter\":[{\"fillpattern\":{\"fillmode\":\"overlay\",\"size\":10,\"solidity\":0.2},\"type\":\"scatter\"}],\"scatterternary\":[{\"marker\":{\"colorbar\":{\"outlinewidth\":0,\"ticks\":\"\"}},\"type\":\"scatterternary\"}],\"surface\":[{\"colorbar\":{\"outlinewidth\":0,\"ticks\":\"\"},\"colorscale\":[[0.0,\"#0d0887\"],[0.1111111111111111,\"#46039f\"],[0.2222222222222222,\"#7201a8\"],[0.3333333333333333,\"#9c179e\"],[0.4444444444444444,\"#bd3786\"],[0.5555555555555556,\"#d8576b\"],[0.6666666666666666,\"#ed7953\"],[0.7777777777777778,\"#fb9f3a\"],[0.8888888888888888,\"#fdca26\"],[1.0,\"#f0f921\"]],\"type\":\"surface\"}],\"table\":[{\"cells\":{\"fill\":{\"color\":\"#EBF0F8\"},\"line\":{\"color\":\"white\"}},\"header\":{\"fill\":{\"color\":\"#C8D4E3\"},\"line\":{\"color\":\"white\"}},\"type\":\"table\"}]},\"layout\":{\"annotationdefaults\":{\"arrowcolor\":\"#2a3f5f\",\"arrowhead\":0,\"arrowwidth\":1},\"autotypenumbers\":\"strict\",\"coloraxis\":{\"colorbar\":{\"outlinewidth\":0,\"ticks\":\"\"}},\"colorscale\":{\"diverging\":[[0,\"#8e0152\"],[0.1,\"#c51b7d\"],[0.2,\"#de77ae\"],[0.3,\"#f1b6da\"],[0.4,\"#fde0ef\"],[0.5,\"#f7f7f7\"],[0.6,\"#e6f5d0\"],[0.7,\"#b8e186\"],[0.8,\"#7fbc41\"],[0.9,\"#4d9221\"],[1,\"#276419\"]],\"sequential\":[[0.0,\"#0d0887\"],[0.1111111111111111,\"#46039f\"],[0.2222222222222222,\"#7201a8\"],[0.3333333333333333,\"#9c179e\"],[0.4444444444444444,\"#bd3786\"],[0.5555555555555556,\"#d8576b\"],[0.6666666666666666,\"#ed7953\"],[0.7777777777777778,\"#fb9f3a\"],[0.8888888888888888,\"#fdca26\"],[1.0,\"#f0f921\"]],\"sequentialminus\":[[0.0,\"#0d0887\"],[0.1111111111111111,\"#46039f\"],[0.2222222222222222,\"#7201a8\"],[0.3333333333333333,\"#9c179e\"],[0.4444444444444444,\"#bd3786\"],[0.5555555555555556,\"#d8576b\"],[0.6666666666666666,\"#ed7953\"],[0.7777777777777778,\"#fb9f3a\"],[0.8888888888888888,\"#fdca26\"],[1.0,\"#f0f921\"]]},\"colorway\":[\"#636efa\",\"#EF553B\",\"#00cc96\",\"#ab63fa\",\"#FFA15A\",\"#19d3f3\",\"#FF6692\",\"#B6E880\",\"#FF97FF\",\"#FECB52\"],\"font\":{\"color\":\"#2a3f5f\"},\"geo\":{\"bgcolor\":\"white\",\"lakecolor\":\"white\",\"landcolor\":\"#E5ECF6\",\"showlakes\":true,\"showland\":true,\"subunitcolor\":\"white\"},\"hoverlabel\":{\"align\":\"left\"},\"hovermode\":\"closest\",\"mapbox\":{\"style\":\"light\"},\"paper_bgcolor\":\"white\",\"plot_bgcolor\":\"#E5ECF6\",\"polar\":{\"angularaxis\":{\"gridcolor\":\"white\",\"linecolor\":\"white\",\"ticks\":\"\"},\"bgcolor\":\"#E5ECF6\",\"radialaxis\":{\"gridcolor\":\"white\",\"linecolor\":\"white\",\"ticks\":\"\"}},\"scene\":{\"xaxis\":{\"backgroundcolor\":\"#E5ECF6\",\"gridcolor\":\"white\",\"gridwidth\":2,\"linecolor\":\"white\",\"showbackground\":true,\"ticks\":\"\",\"zerolinecolor\":\"white\"},\"yaxis\":{\"backgroundcolor\":\"#E5ECF6\",\"gridcolor\":\"white\",\"gridwidth\":2,\"linecolor\":\"white\",\"showbackground\":true,\"ticks\":\"\",\"zerolinecolor\":\"white\"},\"zaxis\":{\"backgroundcolor\":\"#E5ECF6\",\"gridcolor\":\"white\",\"gridwidth\":2,\"linecolor\":\"white\",\"showbackground\":true,\"ticks\":\"\",\"zerolinecolor\":\"white\"}},\"shapedefaults\":{\"line\":{\"color\":\"#2a3f5f\"}},\"ternary\":{\"aaxis\":{\"gridcolor\":\"white\",\"linecolor\":\"white\",\"ticks\":\"\"},\"baxis\":{\"gridcolor\":\"white\",\"linecolor\":\"white\",\"ticks\":\"\"},\"bgcolor\":\"#E5ECF6\",\"caxis\":{\"gridcolor\":\"white\",\"linecolor\":\"white\",\"ticks\":\"\"}},\"title\":{\"x\":0.05},\"xaxis\":{\"automargin\":true,\"gridcolor\":\"white\",\"linecolor\":\"white\",\"ticks\":\"\",\"title\":{\"standoff\":15},\"zerolinecolor\":\"white\",\"zerolinewidth\":2},\"yaxis\":{\"automargin\":true,\"gridcolor\":\"white\",\"linecolor\":\"white\",\"ticks\":\"\",\"title\":{\"standoff\":15},\"zerolinecolor\":\"white\",\"zerolinewidth\":2}}},\"title\":{\"font\":{\"color\":\"#4D5663\"}},\"xaxis\":{\"gridcolor\":\"#E1E5ED\",\"showgrid\":true,\"tickfont\":{\"color\":\"#4D5663\"},\"title\":{\"font\":{\"color\":\"#4D5663\"},\"text\":\"\"},\"zerolinecolor\":\"#E1E5ED\"},\"yaxis\":{\"gridcolor\":\"#E1E5ED\",\"showgrid\":true,\"tickfont\":{\"color\":\"#4D5663\"},\"title\":{\"font\":{\"color\":\"#4D5663\"},\"text\":\"\"},\"zerolinecolor\":\"#E1E5ED\"}},                        {\"showLink\": true, \"linkText\": \"Export to plot.ly\", \"plotlyServerURL\": \"https://plot.ly\", \"responsive\": true}                    ).then(function(){\n",
       "                            \n",
       "var gd = document.getElementById('61ed2a64-6c36-428f-877e-60c8803d8352');\n",
       "var x = new MutationObserver(function (mutations, observer) {{\n",
       "        var display = window.getComputedStyle(gd).display;\n",
       "        if (!display || display === 'none') {{\n",
       "            console.log([gd, 'removed!']);\n",
       "            Plotly.purge(gd);\n",
       "            observer.disconnect();\n",
       "        }}\n",
       "}});\n",
       "\n",
       "// Listen for the removal of the full notebook cells\n",
       "var notebookContainer = gd.closest('#notebook-container');\n",
       "if (notebookContainer) {{\n",
       "    x.observe(notebookContainer, {childList: true});\n",
       "}}\n",
       "\n",
       "// Listen for the clearing of the current output cell\n",
       "var outputEl = gd.closest('.output');\n",
       "if (outputEl) {{\n",
       "    x.observe(outputEl, {childList: true});\n",
       "}}\n",
       "\n",
       "                        })                };                });            </script>        </div>"
      ]
     },
     "metadata": {},
     "output_type": "display_data"
    }
   ],
   "source": [
    "### YOUR CODE HERE ###\n",
    "df.iplot(kind='box', boxpoints='outliers')"
   ]
  },
  {
   "cell_type": "markdown",
   "metadata": {},
   "source": [
    "При построении боксплотов третий признак также ощутимо выделяется. Анализируя отдельно данный боксплот, можно сказать, что данные очень сильно разрежены вверх, при этом основная часть сконцентрированна в диапазоне [-3,2]. Видны выбросы по 3 признаку, по остальным выбросов нет. Второй и четвёртый признак нормально распределены, с медианой равной нулю. Признак 1 чуть смещён вверх по медиане, признак 5 смещён в область отрицательных значений относительно других признаков."
   ]
  },
  {
   "cell_type": "markdown",
   "metadata": {
    "id": "97hwZ2clzJAO"
   },
   "source": [
    "Допустим, мы хотим построить регрессионную модель по имеющимся данным и исследовать влияние остальных переменных на переменную `feature_4`. Постройте диаграммы рассеяния. Определите по графикам, какие независимые переменные имело бы смысл включить в модель регрессии?"
   ]
  },
  {
   "cell_type": "code",
   "execution_count": 14,
   "metadata": {
    "id": "vYHnmy-TzJAR"
   },
   "outputs": [
    {
     "data": {
      "image/png": "[encoded data removed]",
      "text/plain": [
       "<Figure size 1080x576 with 30 Axes>"
      ]
     },
     "metadata": {},
     "output_type": "display_data"
    }
   ],
   "source": [
    "### YOUR CODE HERE ###\n",
    "sns.pairplot(df)\n",
    "plt.gcf().set_size_inches(15, 8)"
   ]
  },
  {
   "cell_type": "markdown",
   "metadata": {},
   "source": [
    "По диаграммам рассеяния видно, как линейно связаны признаки 2 и 4. Также линейно связан и признак 3(за исключеним хвоста распределения).\n",
    "\n",
    "Давайте, проверим еще на корреляцию."
   ]
  },
  {
   "cell_type": "code",
   "execution_count": 15,
   "metadata": {},
   "outputs": [
    {
     "data": {
      "text/plain": [
       "<AxesSubplot:>"
      ]
     },
     "execution_count": 15,
     "metadata": {},
     "output_type": "execute_result"
    },
    {
     "data": {
      "image/png": "[encoded data removed]",
      "text/plain": [
       "<Figure size 432x288 with 2 Axes>"
      ]
     },
     "metadata": {},
     "output_type": "display_data"
    }
   ],
   "source": [
    "sns.heatmap(df.corr().apply(abs), annot = True)"
   ]
  },
  {
   "cell_type": "markdown",
   "metadata": {},
   "source": [
    "Согласно таблице корреляций, 4 признак очень сильно связан со 2 признаком (что видно на графике), а также прослеживается связь с 1 и 3 признаком. Признак 5 практически не коррелирует с целевой переменной. Но так как у нас с признаком 3 есть значительные проблемы, давайте подкорректируем(отсечем хвост) его и выведем новую корреляцию."
   ]
  },
  {
   "cell_type": "code",
   "execution_count": 16,
   "metadata": {},
   "outputs": [
    {
     "data": {
      "text/plain": [
       "<AxesSubplot:>"
      ]
     },
     "execution_count": 16,
     "metadata": {},
     "output_type": "execute_result"
    },
    {
     "data": {
      "image/png": "[encoded data removed]",
      "text/plain": [
       "<Figure size 432x288 with 2 Axes>"
      ]
     },
     "metadata": {},
     "output_type": "display_data"
    }
   ],
   "source": [
    "sns.heatmap(df[df['feature_3'] < 5].corr().apply(abs), annot = True)"
   ]
  },
  {
   "cell_type": "markdown",
   "metadata": {},
   "source": [
    "После отсечения хвоста распределения признака 3, его связь с целевой переменной возросла до 0,9. Тем не менее, теперь признак 3 очень сильно коррелирует с признаком 2. Таким образом, мы можем использовать для регрессионой модели либо признак 2 либо признак 3 (с отсечением значений) либо попарно признаки 1 - 2 и 1 - 3."
   ]
  }
 ],
 "metadata": {
  "colab": {
   "name": "jun_ml_EDA_hw.ipynb",
   "provenance": []
  },
  "kernelspec": {
   "display_name": "Python 3 (ipykernel)",
   "language": "python",
   "name": "python3"
  },
  "language_info": {
   "codemirror_mode": {
    "name": "ipython",
    "version": 3
   },
   "file_extension": ".py",
   "mimetype": "text/x-python",
   "name": "python",
   "nbconvert_exporter": "python",
   "pygments_lexer": "ipython3",
   "version": "3.9.1"
  }
 },
 "nbformat": 4,
 "nbformat_minor": 1
}
